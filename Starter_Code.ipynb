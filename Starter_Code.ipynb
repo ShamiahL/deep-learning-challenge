{
 "cells": [
  {
   "cell_type": "markdown",
   "metadata": {},
   "source": [
    "## Preprocessing"
   ]
  },
  {
   "cell_type": "code",
   "execution_count": 2,
   "metadata": {},
   "outputs": [
    {
     "ename": "ModuleNotFoundError",
     "evalue": "No module named 'tensorflow'",
     "output_type": "error",
     "traceback": [
      "\u001b[0;31m---------------------------------------------------------------------------\u001b[0m",
      "\u001b[0;31mModuleNotFoundError\u001b[0m                       Traceback (most recent call last)",
      "\u001b[1;32m/Users/shamiahlindsey/Downloads/Starter_Code 7/Starter_Code.ipynb Cell 2\u001b[0m line \u001b[0;36m5\n\u001b[1;32m      <a href='vscode-notebook-cell:/Users/shamiahlindsey/Downloads/Starter_Code%207/Starter_Code.ipynb#W1sZmlsZQ%3D%3D?line=2'>3</a>\u001b[0m \u001b[39mfrom\u001b[39;00m \u001b[39msklearn\u001b[39;00m\u001b[39m.\u001b[39;00m\u001b[39mpreprocessing\u001b[39;00m \u001b[39mimport\u001b[39;00m StandardScaler\n\u001b[1;32m      <a href='vscode-notebook-cell:/Users/shamiahlindsey/Downloads/Starter_Code%207/Starter_Code.ipynb#W1sZmlsZQ%3D%3D?line=3'>4</a>\u001b[0m \u001b[39mimport\u001b[39;00m \u001b[39mpandas\u001b[39;00m \u001b[39mas\u001b[39;00m \u001b[39mpd\u001b[39;00m\n\u001b[0;32m----> <a href='vscode-notebook-cell:/Users/shamiahlindsey/Downloads/Starter_Code%207/Starter_Code.ipynb#W1sZmlsZQ%3D%3D?line=4'>5</a>\u001b[0m \u001b[39mimport\u001b[39;00m \u001b[39mtensorflow\u001b[39;00m \u001b[39mas\u001b[39;00m \u001b[39mtf\u001b[39;00m\n\u001b[1;32m      <a href='vscode-notebook-cell:/Users/shamiahlindsey/Downloads/Starter_Code%207/Starter_Code.ipynb#W1sZmlsZQ%3D%3D?line=6'>7</a>\u001b[0m \u001b[39m#  Import and read the charity_data.csv.\u001b[39;00m\n\u001b[1;32m      <a href='vscode-notebook-cell:/Users/shamiahlindsey/Downloads/Starter_Code%207/Starter_Code.ipynb#W1sZmlsZQ%3D%3D?line=7'>8</a>\u001b[0m \u001b[39mimport\u001b[39;00m \u001b[39mpandas\u001b[39;00m \u001b[39mas\u001b[39;00m \u001b[39mpd\u001b[39;00m \n",
      "\u001b[0;31mModuleNotFoundError\u001b[0m: No module named 'tensorflow'"
     ]
    }
   ],
   "source": [
    "# Import our dependencies\n",
    "from sklearn.model_selection import train_test_split\n",
    "from sklearn.preprocessing import StandardScaler\n",
    "import pandas as pd\n",
    "import tensorflow as tf\n",
    "\n",
    "#  Import and read the charity_data.csv.\n",
    "import pandas as pd \n",
    "application_df = pd.read_csv(\"https://static.bc-edx.com/data/dl-1-2/m21/lms/starter/charity_data.csv\")\n",
    "application_df.head()"
   ]
  },
  {
   "cell_type": "code",
   "execution_count": 3,
   "metadata": {},
   "outputs": [
    {
     "ename": "NameError",
     "evalue": "name 'application_df' is not defined",
     "output_type": "error",
     "traceback": [
      "\u001b[0;31m---------------------------------------------------------------------------\u001b[0m",
      "\u001b[0;31mNameError\u001b[0m                                 Traceback (most recent call last)",
      "\u001b[1;32m/Users/shamiahlindsey/Downloads/Starter_Code 7/Starter_Code.ipynb Cell 3\u001b[0m line \u001b[0;36m2\n\u001b[1;32m      <a href='vscode-notebook-cell:/Users/shamiahlindsey/Downloads/Starter_Code%207/Starter_Code.ipynb#W2sZmlsZQ%3D%3D?line=0'>1</a>\u001b[0m \u001b[39m# Drop the non-beneficial ID columns, 'EIN' and 'NAME'.\u001b[39;00m\n\u001b[0;32m----> <a href='vscode-notebook-cell:/Users/shamiahlindsey/Downloads/Starter_Code%207/Starter_Code.ipynb#W2sZmlsZQ%3D%3D?line=1'>2</a>\u001b[0m application_df \u001b[39m=\u001b[39m application_df\u001b[39m.\u001b[39mdrop(columns\u001b[39m=\u001b[39m[\u001b[39m'\u001b[39m\u001b[39mEIN\u001b[39m\u001b[39m'\u001b[39m, \u001b[39m'\u001b[39m\u001b[39mNAME\u001b[39m\u001b[39m'\u001b[39m], axis\u001b[39m=\u001b[39m\u001b[39m1\u001b[39m)\n\u001b[1;32m      <a href='vscode-notebook-cell:/Users/shamiahlindsey/Downloads/Starter_Code%207/Starter_Code.ipynb#W2sZmlsZQ%3D%3D?line=2'>3</a>\u001b[0m application_df\u001b[39m.\u001b[39mhead()\n",
      "\u001b[0;31mNameError\u001b[0m: name 'application_df' is not defined"
     ]
    }
   ],
   "source": [
    "# Drop the non-beneficial ID columns, 'EIN' and 'NAME'.\n",
    "application_df = application_df.drop(columns=['EIN', 'NAME'], axis=1)\n",
    "application_df.head()"
   ]
  },
  {
   "cell_type": "code",
   "execution_count": 4,
   "metadata": {},
   "outputs": [
    {
     "ename": "NameError",
     "evalue": "name 'application_df' is not defined",
     "output_type": "error",
     "traceback": [
      "\u001b[0;31m---------------------------------------------------------------------------\u001b[0m",
      "\u001b[0;31mNameError\u001b[0m                                 Traceback (most recent call last)",
      "\u001b[1;32m/Users/shamiahlindsey/Downloads/Starter_Code 7/Starter_Code.ipynb Cell 4\u001b[0m line \u001b[0;36m2\n\u001b[1;32m      <a href='vscode-notebook-cell:/Users/shamiahlindsey/Downloads/Starter_Code%207/Starter_Code.ipynb#W3sZmlsZQ%3D%3D?line=0'>1</a>\u001b[0m \u001b[39m# Determine the number of unique values in each column.\u001b[39;00m\n\u001b[0;32m----> <a href='vscode-notebook-cell:/Users/shamiahlindsey/Downloads/Starter_Code%207/Starter_Code.ipynb#W3sZmlsZQ%3D%3D?line=1'>2</a>\u001b[0m application_df\u001b[39m.\u001b[39mnunique()\n",
      "\u001b[0;31mNameError\u001b[0m: name 'application_df' is not defined"
     ]
    }
   ],
   "source": [
    "# Determine the number of unique values in each column.\n",
    "application_df.nunique()"
   ]
  },
  {
   "cell_type": "code",
   "execution_count": 5,
   "metadata": {},
   "outputs": [
    {
     "ename": "NameError",
     "evalue": "name 'application_df' is not defined",
     "output_type": "error",
     "traceback": [
      "\u001b[0;31m---------------------------------------------------------------------------\u001b[0m",
      "\u001b[0;31mNameError\u001b[0m                                 Traceback (most recent call last)",
      "\u001b[1;32m/Users/shamiahlindsey/Downloads/Starter_Code 7/Starter_Code.ipynb Cell 5\u001b[0m line \u001b[0;36m2\n\u001b[1;32m      <a href='vscode-notebook-cell:/Users/shamiahlindsey/Downloads/Starter_Code%207/Starter_Code.ipynb#W4sZmlsZQ%3D%3D?line=0'>1</a>\u001b[0m \u001b[39m# Look at APPLICATION_TYPE value counts for binning\u001b[39;00m\n\u001b[0;32m----> <a href='vscode-notebook-cell:/Users/shamiahlindsey/Downloads/Starter_Code%207/Starter_Code.ipynb#W4sZmlsZQ%3D%3D?line=1'>2</a>\u001b[0m app_counts \u001b[39m=\u001b[39m application_df[\u001b[39m'\u001b[39m\u001b[39mAPPLICATION_TYPE\u001b[39m\u001b[39m'\u001b[39m]\u001b[39m.\u001b[39mvalue_counts()\n\u001b[1;32m      <a href='vscode-notebook-cell:/Users/shamiahlindsey/Downloads/Starter_Code%207/Starter_Code.ipynb#W4sZmlsZQ%3D%3D?line=2'>3</a>\u001b[0m app_counts\n",
      "\u001b[0;31mNameError\u001b[0m: name 'application_df' is not defined"
     ]
    }
   ],
   "source": [
    "# Look at APPLICATION_TYPE value counts for binning\n",
    "app_counts = application_df['APPLICATION_TYPE'].value_counts()\n",
    "app_counts"
   ]
  },
  {
   "cell_type": "code",
   "execution_count": 6,
   "metadata": {},
   "outputs": [
    {
     "ename": "NameError",
     "evalue": "name 'app_counts' is not defined",
     "output_type": "error",
     "traceback": [
      "\u001b[0;31m---------------------------------------------------------------------------\u001b[0m",
      "\u001b[0;31mNameError\u001b[0m                                 Traceback (most recent call last)",
      "\u001b[1;32m/Users/shamiahlindsey/Downloads/Starter_Code 7/Starter_Code.ipynb Cell 6\u001b[0m line \u001b[0;36m3\n\u001b[1;32m      <a href='vscode-notebook-cell:/Users/shamiahlindsey/Downloads/Starter_Code%207/Starter_Code.ipynb#W5sZmlsZQ%3D%3D?line=0'>1</a>\u001b[0m \u001b[39m# Choose a cutoff value and create a list of application types to be replaced\u001b[39;00m\n\u001b[1;32m      <a href='vscode-notebook-cell:/Users/shamiahlindsey/Downloads/Starter_Code%207/Starter_Code.ipynb#W5sZmlsZQ%3D%3D?line=1'>2</a>\u001b[0m \u001b[39m# use the variable name `application_types_to_replace`\u001b[39;00m\n\u001b[0;32m----> <a href='vscode-notebook-cell:/Users/shamiahlindsey/Downloads/Starter_Code%207/Starter_Code.ipynb#W5sZmlsZQ%3D%3D?line=2'>3</a>\u001b[0m application_types_to_replace \u001b[39m=\u001b[39m \u001b[39mlist\u001b[39m(app_counts[app_counts \u001b[39m<\u001b[39m \u001b[39m500\u001b[39m]\u001b[39m.\u001b[39mindex)\n\u001b[1;32m      <a href='vscode-notebook-cell:/Users/shamiahlindsey/Downloads/Starter_Code%207/Starter_Code.ipynb#W5sZmlsZQ%3D%3D?line=5'>6</a>\u001b[0m \u001b[39m# Replace in dataframe\u001b[39;00m\n\u001b[1;32m      <a href='vscode-notebook-cell:/Users/shamiahlindsey/Downloads/Starter_Code%207/Starter_Code.ipynb#W5sZmlsZQ%3D%3D?line=6'>7</a>\u001b[0m \u001b[39mfor\u001b[39;00m app \u001b[39min\u001b[39;00m application_types_to_replace:\n",
      "\u001b[0;31mNameError\u001b[0m: name 'app_counts' is not defined"
     ]
    }
   ],
   "source": [
    "# Choose a cutoff value and create a list of application types to be replaced\n",
    "# use the variable name `application_types_to_replace`\n",
    "application_types_to_replace = list(app_counts[app_counts < 500].index)\n",
    "\n",
    "\n",
    "# Replace in dataframe\n",
    "for app in application_types_to_replace:\n",
    "    application_df['APPLICATION_TYPE'] = application_df['APPLICATION_TYPE'].replace(app,\"Other\")\n",
    "\n",
    "# Check to make sure binning was successful\n",
    "application_df['APPLICATION_TYPE'].value_counts()"
   ]
  },
  {
   "cell_type": "code",
   "execution_count": 7,
   "metadata": {},
   "outputs": [
    {
     "ename": "NameError",
     "evalue": "name 'application_df' is not defined",
     "output_type": "error",
     "traceback": [
      "\u001b[0;31m---------------------------------------------------------------------------\u001b[0m",
      "\u001b[0;31mNameError\u001b[0m                                 Traceback (most recent call last)",
      "\u001b[1;32m/Users/shamiahlindsey/Downloads/Starter_Code 7/Starter_Code.ipynb Cell 7\u001b[0m line \u001b[0;36m2\n\u001b[1;32m      <a href='vscode-notebook-cell:/Users/shamiahlindsey/Downloads/Starter_Code%207/Starter_Code.ipynb#W6sZmlsZQ%3D%3D?line=0'>1</a>\u001b[0m \u001b[39m# Look at CLASSIFICATION value counts for binning\u001b[39;00m\n\u001b[0;32m----> <a href='vscode-notebook-cell:/Users/shamiahlindsey/Downloads/Starter_Code%207/Starter_Code.ipynb#W6sZmlsZQ%3D%3D?line=1'>2</a>\u001b[0m class_counts \u001b[39m=\u001b[39m application_df[\u001b[39m'\u001b[39m\u001b[39mCLASSIFICATION\u001b[39m\u001b[39m'\u001b[39m]\u001b[39m.\u001b[39mvalue_counts()\n\u001b[1;32m      <a href='vscode-notebook-cell:/Users/shamiahlindsey/Downloads/Starter_Code%207/Starter_Code.ipynb#W6sZmlsZQ%3D%3D?line=2'>3</a>\u001b[0m class_counts\n",
      "\u001b[0;31mNameError\u001b[0m: name 'application_df' is not defined"
     ]
    }
   ],
   "source": [
    "# Look at CLASSIFICATION value counts for binning\n",
    "class_counts = application_df['CLASSIFICATION'].value_counts()\n",
    "class_counts"
   ]
  },
  {
   "cell_type": "code",
   "execution_count": 8,
   "metadata": {},
   "outputs": [
    {
     "ename": "NameError",
     "evalue": "name 'class_counts' is not defined",
     "output_type": "error",
     "traceback": [
      "\u001b[0;31m---------------------------------------------------------------------------\u001b[0m",
      "\u001b[0;31mNameError\u001b[0m                                 Traceback (most recent call last)",
      "\u001b[1;32m/Users/shamiahlindsey/Downloads/Starter_Code 7/Starter_Code.ipynb Cell 8\u001b[0m line \u001b[0;36m2\n\u001b[1;32m      <a href='vscode-notebook-cell:/Users/shamiahlindsey/Downloads/Starter_Code%207/Starter_Code.ipynb#X10sZmlsZQ%3D%3D?line=0'>1</a>\u001b[0m \u001b[39m# You may find it helpful to look at CLASSIFICATION value counts >1\u001b[39;00m\n\u001b[0;32m----> <a href='vscode-notebook-cell:/Users/shamiahlindsey/Downloads/Starter_Code%207/Starter_Code.ipynb#X10sZmlsZQ%3D%3D?line=1'>2</a>\u001b[0m class_counts_gt1 \u001b[39m=\u001b[39m class_counts\u001b[39m.\u001b[39mloc[class_counts \u001b[39m>\u001b[39m \u001b[39m1\u001b[39m]\n\u001b[1;32m      <a href='vscode-notebook-cell:/Users/shamiahlindsey/Downloads/Starter_Code%207/Starter_Code.ipynb#X10sZmlsZQ%3D%3D?line=2'>3</a>\u001b[0m class_counts_gt1\u001b[39m.\u001b[39mhead()\n",
      "\u001b[0;31mNameError\u001b[0m: name 'class_counts' is not defined"
     ]
    }
   ],
   "source": [
    "# You may find it helpful to look at CLASSIFICATION value counts >1\n",
    "class_counts_gt1 = class_counts.loc[class_counts > 1]\n",
    "class_counts_gt1.head()"
   ]
  },
  {
   "cell_type": "code",
   "execution_count": 9,
   "metadata": {},
   "outputs": [
    {
     "ename": "NameError",
     "evalue": "name 'class_counts' is not defined",
     "output_type": "error",
     "traceback": [
      "\u001b[0;31m---------------------------------------------------------------------------\u001b[0m",
      "\u001b[0;31mNameError\u001b[0m                                 Traceback (most recent call last)",
      "\u001b[1;32m/Users/shamiahlindsey/Downloads/Starter_Code 7/Starter_Code.ipynb Cell 9\u001b[0m line \u001b[0;36m3\n\u001b[1;32m      <a href='vscode-notebook-cell:/Users/shamiahlindsey/Downloads/Starter_Code%207/Starter_Code.ipynb#X11sZmlsZQ%3D%3D?line=0'>1</a>\u001b[0m \u001b[39m# Choose a cutoff value and create a list of classifications to be replaced\u001b[39;00m\n\u001b[1;32m      <a href='vscode-notebook-cell:/Users/shamiahlindsey/Downloads/Starter_Code%207/Starter_Code.ipynb#X11sZmlsZQ%3D%3D?line=1'>2</a>\u001b[0m \u001b[39m# use the variable name `classifications_to_replace`\u001b[39;00m\n\u001b[0;32m----> <a href='vscode-notebook-cell:/Users/shamiahlindsey/Downloads/Starter_Code%207/Starter_Code.ipynb#X11sZmlsZQ%3D%3D?line=2'>3</a>\u001b[0m classifications_to_replace \u001b[39m=\u001b[39m \u001b[39mlist\u001b[39m(class_counts[class_counts \u001b[39m<\u001b[39m \u001b[39m1000\u001b[39m]\u001b[39m.\u001b[39mindex)\n\u001b[1;32m      <a href='vscode-notebook-cell:/Users/shamiahlindsey/Downloads/Starter_Code%207/Starter_Code.ipynb#X11sZmlsZQ%3D%3D?line=4'>5</a>\u001b[0m \u001b[39m# Replace in dataframe\u001b[39;00m\n\u001b[1;32m      <a href='vscode-notebook-cell:/Users/shamiahlindsey/Downloads/Starter_Code%207/Starter_Code.ipynb#X11sZmlsZQ%3D%3D?line=5'>6</a>\u001b[0m \u001b[39mfor\u001b[39;00m \u001b[39mcls\u001b[39m \u001b[39min\u001b[39;00m classifications_to_replace:\n",
      "\u001b[0;31mNameError\u001b[0m: name 'class_counts' is not defined"
     ]
    }
   ],
   "source": [
    "# Choose a cutoff value and create a list of classifications to be replaced\n",
    "# use the variable name `classifications_to_replace`\n",
    "classifications_to_replace = list(class_counts[class_counts < 1000].index)\n",
    "\n",
    "# Replace in dataframe\n",
    "for cls in classifications_to_replace:\n",
    "    application_df['CLASSIFICATION'] = application_df['CLASSIFICATION'].replace(cls,\"Other\")\n",
    "    \n",
    "# Check to make sure binning was successful\n",
    "application_df['CLASSIFICATION'].value_counts()"
   ]
  },
  {
   "cell_type": "code",
   "execution_count": 10,
   "metadata": {},
   "outputs": [
    {
     "ename": "NameError",
     "evalue": "name 'application_df' is not defined",
     "output_type": "error",
     "traceback": [
      "\u001b[0;31m---------------------------------------------------------------------------\u001b[0m",
      "\u001b[0;31mNameError\u001b[0m                                 Traceback (most recent call last)",
      "\u001b[1;32m/Users/shamiahlindsey/Downloads/Starter_Code 7/Starter_Code.ipynb Cell 10\u001b[0m line \u001b[0;36m2\n\u001b[1;32m      <a href='vscode-notebook-cell:/Users/shamiahlindsey/Downloads/Starter_Code%207/Starter_Code.ipynb#X12sZmlsZQ%3D%3D?line=0'>1</a>\u001b[0m \u001b[39m# Convert categorical data to numeric with `pd.get_dummies`\u001b[39;00m\n\u001b[0;32m----> <a href='vscode-notebook-cell:/Users/shamiahlindsey/Downloads/Starter_Code%207/Starter_Code.ipynb#X12sZmlsZQ%3D%3D?line=1'>2</a>\u001b[0m application_numeric \u001b[39m=\u001b[39m pd\u001b[39m.\u001b[39mget_dummies(application_df)\n",
      "\u001b[0;31mNameError\u001b[0m: name 'application_df' is not defined"
     ]
    }
   ],
   "source": [
    "# Convert categorical data to numeric with `pd.get_dummies`\n",
    "application_numeric = pd.get_dummies(application_df)\n"
   ]
  },
  {
   "cell_type": "code",
   "execution_count": 11,
   "metadata": {},
   "outputs": [
    {
     "ename": "NameError",
     "evalue": "name 'application_numeric' is not defined",
     "output_type": "error",
     "traceback": [
      "\u001b[0;31m---------------------------------------------------------------------------\u001b[0m",
      "\u001b[0;31mNameError\u001b[0m                                 Traceback (most recent call last)",
      "\u001b[1;32m/Users/shamiahlindsey/Downloads/Starter_Code 7/Starter_Code.ipynb Cell 11\u001b[0m line \u001b[0;36m2\n\u001b[1;32m      <a href='vscode-notebook-cell:/Users/shamiahlindsey/Downloads/Starter_Code%207/Starter_Code.ipynb#X13sZmlsZQ%3D%3D?line=0'>1</a>\u001b[0m \u001b[39m# Split our preprocessed data into our features and target arrays\u001b[39;00m\n\u001b[0;32m----> <a href='vscode-notebook-cell:/Users/shamiahlindsey/Downloads/Starter_Code%207/Starter_Code.ipynb#X13sZmlsZQ%3D%3D?line=1'>2</a>\u001b[0m X \u001b[39m=\u001b[39m application_numeric\u001b[39m.\u001b[39mdrop([\u001b[39m'\u001b[39m\u001b[39mIS_SUCCESSFUL\u001b[39m\u001b[39m'\u001b[39m], axis\u001b[39m=\u001b[39m\u001b[39m1\u001b[39m)\n\u001b[1;32m      <a href='vscode-notebook-cell:/Users/shamiahlindsey/Downloads/Starter_Code%207/Starter_Code.ipynb#X13sZmlsZQ%3D%3D?line=2'>3</a>\u001b[0m y \u001b[39m=\u001b[39m application_numeric[\u001b[39m'\u001b[39m\u001b[39mIS_SUCCESSFUL\u001b[39m\u001b[39m'\u001b[39m]\n\u001b[1;32m      <a href='vscode-notebook-cell:/Users/shamiahlindsey/Downloads/Starter_Code%207/Starter_Code.ipynb#X13sZmlsZQ%3D%3D?line=4'>5</a>\u001b[0m \u001b[39m# Split the preprocessed data into a training and testing dataset\u001b[39;00m\n",
      "\u001b[0;31mNameError\u001b[0m: name 'application_numeric' is not defined"
     ]
    }
   ],
   "source": [
    "# Split our preprocessed data into our features and target arrays\n",
    "X = application_numeric.drop(['IS_SUCCESSFUL'], axis=1)\n",
    "y = application_numeric['IS_SUCCESSFUL']\n",
    "\n",
    "# Split the preprocessed data into a training and testing dataset\n",
    "X_train, X_test, y_train, y_test = train_test_split(X, y, random_state=58)\n"
   ]
  },
  {
   "cell_type": "code",
   "execution_count": 12,
   "metadata": {},
   "outputs": [
    {
     "ename": "NameError",
     "evalue": "name 'X_train' is not defined",
     "output_type": "error",
     "traceback": [
      "\u001b[0;31m---------------------------------------------------------------------------\u001b[0m",
      "\u001b[0;31mNameError\u001b[0m                                 Traceback (most recent call last)",
      "\u001b[1;32m/Users/shamiahlindsey/Downloads/Starter_Code 7/Starter_Code.ipynb Cell 12\u001b[0m line \u001b[0;36m5\n\u001b[1;32m      <a href='vscode-notebook-cell:/Users/shamiahlindsey/Downloads/Starter_Code%207/Starter_Code.ipynb#X14sZmlsZQ%3D%3D?line=1'>2</a>\u001b[0m scaler \u001b[39m=\u001b[39m StandardScaler()\n\u001b[1;32m      <a href='vscode-notebook-cell:/Users/shamiahlindsey/Downloads/Starter_Code%207/Starter_Code.ipynb#X14sZmlsZQ%3D%3D?line=3'>4</a>\u001b[0m \u001b[39m# Fit the StandardScaler\u001b[39;00m\n\u001b[0;32m----> <a href='vscode-notebook-cell:/Users/shamiahlindsey/Downloads/Starter_Code%207/Starter_Code.ipynb#X14sZmlsZQ%3D%3D?line=4'>5</a>\u001b[0m X_scaler \u001b[39m=\u001b[39m scaler\u001b[39m.\u001b[39mfit(X_train)\n\u001b[1;32m      <a href='vscode-notebook-cell:/Users/shamiahlindsey/Downloads/Starter_Code%207/Starter_Code.ipynb#X14sZmlsZQ%3D%3D?line=6'>7</a>\u001b[0m \u001b[39m# Scale the data\u001b[39;00m\n\u001b[1;32m      <a href='vscode-notebook-cell:/Users/shamiahlindsey/Downloads/Starter_Code%207/Starter_Code.ipynb#X14sZmlsZQ%3D%3D?line=7'>8</a>\u001b[0m X_train_scaled \u001b[39m=\u001b[39m X_scaler\u001b[39m.\u001b[39mtransform(X_train)\n",
      "\u001b[0;31mNameError\u001b[0m: name 'X_train' is not defined"
     ]
    }
   ],
   "source": [
    "# Create a StandardScaler instances\n",
    "scaler = StandardScaler()\n",
    "\n",
    "# Fit the StandardScaler\n",
    "X_scaler = scaler.fit(X_train)\n",
    "\n",
    "# Scale the data\n",
    "X_train_scaled = X_scaler.transform(X_train)\n",
    "X_test_scaled = X_scaler.transform(X_test)"
   ]
  },
  {
   "cell_type": "markdown",
   "metadata": {},
   "source": [
    "## Compile, Train and Evaluate the Model"
   ]
  },
  {
   "cell_type": "code",
   "execution_count": 13,
   "metadata": {},
   "outputs": [
    {
     "ename": "NameError",
     "evalue": "name 'X_train_scaled' is not defined",
     "output_type": "error",
     "traceback": [
      "\u001b[0;31m---------------------------------------------------------------------------\u001b[0m",
      "\u001b[0;31mNameError\u001b[0m                                 Traceback (most recent call last)",
      "\u001b[1;32m/Users/shamiahlindsey/Downloads/Starter_Code 7/Starter_Code.ipynb Cell 14\u001b[0m line \u001b[0;36m2\n\u001b[1;32m      <a href='vscode-notebook-cell:/Users/shamiahlindsey/Downloads/Starter_Code%207/Starter_Code.ipynb#X16sZmlsZQ%3D%3D?line=0'>1</a>\u001b[0m \u001b[39m# Define the model - deep neural net, i.e., the number of input features and hidden nodes for each layer.\u001b[39;00m\n\u001b[0;32m----> <a href='vscode-notebook-cell:/Users/shamiahlindsey/Downloads/Starter_Code%207/Starter_Code.ipynb#X16sZmlsZQ%3D%3D?line=1'>2</a>\u001b[0m number_input_features \u001b[39m=\u001b[39m \u001b[39mlen\u001b[39m(X_train_scaled[\u001b[39m0\u001b[39m])\n\u001b[1;32m      <a href='vscode-notebook-cell:/Users/shamiahlindsey/Downloads/Starter_Code%207/Starter_Code.ipynb#X16sZmlsZQ%3D%3D?line=2'>3</a>\u001b[0m hidden_nodes_layer1 \u001b[39m=\u001b[39m \u001b[39m10\u001b[39m\n\u001b[1;32m      <a href='vscode-notebook-cell:/Users/shamiahlindsey/Downloads/Starter_Code%207/Starter_Code.ipynb#X16sZmlsZQ%3D%3D?line=3'>4</a>\u001b[0m hidden_nodes_layer2 \u001b[39m=\u001b[39m \u001b[39m5\u001b[39m\n",
      "\u001b[0;31mNameError\u001b[0m: name 'X_train_scaled' is not defined"
     ]
    }
   ],
   "source": [
    "# Define the model - deep neural net, i.e., the number of input features and hidden nodes for each layer.\n",
    "number_input_features = len(X_train_scaled[0])\n",
    "hidden_nodes_layer1 = 10\n",
    "hidden_nodes_layer2 = 5\n",
    "\n",
    "\n",
    "nn = tf.keras.models.Sequential()\n",
    "nn_model.add(tf.keras.layers.Dense(units=hidden_nodes_layer1,\n",
    "             input_dim=number_input_features, activation=\"tanh\"))\n",
    "\n",
    "# First hidden layer\n",
    "nn_model.add(tf.keras.layers.Dense(units=hidden_nodes_layer1,\n",
    "             input_dim=number_input_features, activation=\"tanh\"))\n",
    "\n",
    "\n",
    "# Second hidden layer\n",
    "nn_model.add(tf.keras.layers.Dense(\n",
    "    units=hidden_nodes_layer2, activation=\"relu\"))\n",
    "\n",
    "\n",
    "# Output layer\n",
    "nn_model.add(tf.keras.layers.Dense(units=1, activation=\"relu\"))\n",
    "\n",
    "# Check the structure of the model\n",
    "nn.summary()"
   ]
  },
  {
   "cell_type": "code",
   "execution_count": 14,
   "metadata": {},
   "outputs": [
    {
     "ename": "NameError",
     "evalue": "name 'nn_model' is not defined",
     "output_type": "error",
     "traceback": [
      "\u001b[0;31m---------------------------------------------------------------------------\u001b[0m",
      "\u001b[0;31mNameError\u001b[0m                                 Traceback (most recent call last)",
      "\u001b[1;32m/Users/shamiahlindsey/Downloads/Starter_Code 7/Starter_Code.ipynb Cell 15\u001b[0m line \u001b[0;36m2\n\u001b[1;32m      <a href='vscode-notebook-cell:/Users/shamiahlindsey/Downloads/Starter_Code%207/Starter_Code.ipynb#X20sZmlsZQ%3D%3D?line=0'>1</a>\u001b[0m \u001b[39m# Compile the model\u001b[39;00m\n\u001b[0;32m----> <a href='vscode-notebook-cell:/Users/shamiahlindsey/Downloads/Starter_Code%207/Starter_Code.ipynb#X20sZmlsZQ%3D%3D?line=1'>2</a>\u001b[0m nn_model\u001b[39m.\u001b[39mcompile(loss\u001b[39m=\u001b[39m\u001b[39m'\u001b[39m\u001b[39mbinary_crossentropy\u001b[39m\u001b[39m'\u001b[39m, optimizer\u001b[39m=\u001b[39m\u001b[39m'\u001b[39m\u001b[39madam\u001b[39m\u001b[39m'\u001b[39m, metrics\u001b[39m=\u001b[39m[\u001b[39m'\u001b[39m\u001b[39maccuracy\u001b[39m\u001b[39m'\u001b[39m])\n",
      "\u001b[0;31mNameError\u001b[0m: name 'nn_model' is not defined"
     ]
    }
   ],
   "source": [
    "# Compile the model\n",
    "nn_model.compile(loss='binary_crossentropy', optimizer='adam', metrics=['accuracy'])"
   ]
  },
  {
   "cell_type": "code",
   "execution_count": 15,
   "metadata": {},
   "outputs": [
    {
     "ename": "NameError",
     "evalue": "name 'nn_model' is not defined",
     "output_type": "error",
     "traceback": [
      "\u001b[0;31m---------------------------------------------------------------------------\u001b[0m",
      "\u001b[0;31mNameError\u001b[0m                                 Traceback (most recent call last)",
      "\u001b[1;32m/Users/shamiahlindsey/Downloads/Starter_Code 7/Starter_Code.ipynb Cell 16\u001b[0m line \u001b[0;36m2\n\u001b[1;32m      <a href='vscode-notebook-cell:/Users/shamiahlindsey/Downloads/Starter_Code%207/Starter_Code.ipynb#X21sZmlsZQ%3D%3D?line=0'>1</a>\u001b[0m \u001b[39m# Train the model\u001b[39;00m\n\u001b[0;32m----> <a href='vscode-notebook-cell:/Users/shamiahlindsey/Downloads/Starter_Code%207/Starter_Code.ipynb#X21sZmlsZQ%3D%3D?line=1'>2</a>\u001b[0m fit_model \u001b[39m=\u001b[39m nn_model\u001b[39m.\u001b[39mfit(X_train_scaled, y_train, epochs\u001b[39m=\u001b[39m\u001b[39m20\u001b[39m)\n",
      "\u001b[0;31mNameError\u001b[0m: name 'nn_model' is not defined"
     ]
    }
   ],
   "source": [
    "# Train the model\n",
    "fit_model = nn_model.fit(X_train_scaled, y_train, epochs=20)"
   ]
  },
  {
   "cell_type": "code",
   "execution_count": 16,
   "metadata": {},
   "outputs": [
    {
     "ename": "NameError",
     "evalue": "name 'nn' is not defined",
     "output_type": "error",
     "traceback": [
      "\u001b[0;31m---------------------------------------------------------------------------\u001b[0m",
      "\u001b[0;31mNameError\u001b[0m                                 Traceback (most recent call last)",
      "\u001b[1;32m/Users/shamiahlindsey/Downloads/Starter_Code 7/Starter_Code.ipynb Cell 17\u001b[0m line \u001b[0;36m2\n\u001b[1;32m      <a href='vscode-notebook-cell:/Users/shamiahlindsey/Downloads/Starter_Code%207/Starter_Code.ipynb#X22sZmlsZQ%3D%3D?line=0'>1</a>\u001b[0m \u001b[39m# Evaluate the model using the test data\u001b[39;00m\n\u001b[0;32m----> <a href='vscode-notebook-cell:/Users/shamiahlindsey/Downloads/Starter_Code%207/Starter_Code.ipynb#X22sZmlsZQ%3D%3D?line=1'>2</a>\u001b[0m model_loss, model_accuracy \u001b[39m=\u001b[39m nn\u001b[39m.\u001b[39mevaluate(X_test_scaled,y_test,verbose\u001b[39m=\u001b[39m\u001b[39m2\u001b[39m)\n\u001b[1;32m      <a href='vscode-notebook-cell:/Users/shamiahlindsey/Downloads/Starter_Code%207/Starter_Code.ipynb#X22sZmlsZQ%3D%3D?line=2'>3</a>\u001b[0m \u001b[39mprint\u001b[39m(\u001b[39mf\u001b[39m\u001b[39m\"\u001b[39m\u001b[39mLoss: \u001b[39m\u001b[39m{\u001b[39;00mmodel_loss\u001b[39m}\u001b[39;00m\u001b[39m, Accuracy: \u001b[39m\u001b[39m{\u001b[39;00mmodel_accuracy\u001b[39m}\u001b[39;00m\u001b[39m\"\u001b[39m)\n",
      "\u001b[0;31mNameError\u001b[0m: name 'nn' is not defined"
     ]
    }
   ],
   "source": [
    "# Evaluate the model using the test data\n",
    "model_loss, model_accuracy = nn.evaluate(X_test_scaled,y_test,verbose=2)\n",
    "print(f\"Loss: {model_loss}, Accuracy: {model_accuracy}\")"
   ]
  },
  {
   "cell_type": "code",
   "execution_count": 18,
   "metadata": {},
   "outputs": [],
   "source": [
    "# Export our model to HDF5 file\n",
    "filename = '/content/drive/MyDrive/UTSA_Homework/H5_Files/AlphabetSoupCharity_model1.h5'\n"
   ]
  }
 ],
 "metadata": {
  "kernelspec": {
   "display_name": "Python 3",
   "language": "python",
   "name": "python3"
  },
  "language_info": {
   "codemirror_mode": {
    "name": "ipython",
    "version": 3
   },
   "file_extension": ".py",
   "mimetype": "text/x-python",
   "name": "python",
   "nbconvert_exporter": "python",
   "pygments_lexer": "ipython3",
   "version": "3.10.12"
  },
  "vscode": {
   "interpreter": {
    "hash": "31f2aee4e71d21fbe5cf8b01ff0e069b9275f58929596ceb00d14d90e3e16cd6"
   }
  }
 },
 "nbformat": 4,
 "nbformat_minor": 4
}
